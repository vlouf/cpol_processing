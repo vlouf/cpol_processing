{
 "cells": [
  {
   "cell_type": "code",
   "execution_count": null,
   "metadata": {
    "ExecuteTime": {
     "end_time": "2020-06-06T05:29:22.278037Z",
     "start_time": "2020-06-06T05:29:21.163361Z"
    }
   },
   "outputs": [],
   "source": [
    "import glob\n",
    "import pandas as pd\n",
    "\n",
    "indirs = sorted(glob.glob('/g/data/hj10/admin/cpol_level_1a/v2019/ppi/**/**/'))\n",
    "dlist = [pd.to_datetime(d[-9:-1]) for d in indirs]\n",
    "drange = pd.DatetimeIndex(dlist).to_period(freq='1m').unique()"
   ]
  },
  {
   "cell_type": "code",
   "execution_count": null,
   "metadata": {
    "ExecuteTime": {
     "end_time": "2020-06-06T05:30:10.492148Z",
     "start_time": "2020-06-06T05:30:10.488012Z"
    }
   },
   "outputs": [],
   "source": [
    "def get_pbs(sdate, edate):\n",
    "    txt = f'''#!/bin/bash\n",
    "#PBS -P kl02\n",
    "#PBS -q normal\n",
    "#PBS -l walltime=8:00:00\n",
    "#PBS -l mem=128GB\n",
    "#PBS -l wd\n",
    "#PBS -l jobfs=1GB\n",
    "#PBS -l ncpus=16\n",
    "#PBS -lstorage=scratch/hj10+gdata/hj10+scratch/kl02+gdata/kl02\n",
    "source activate radar\n",
    "export NUMBA_CACHE_DIR=/scratch/kl02/vhl548/tmp/\n",
    "python radar_pack.py -s {sdate} -e {edate}\n",
    "'''\n",
    "    return txt"
   ]
  },
  {
   "cell_type": "code",
   "execution_count": null,
   "metadata": {
    "ExecuteTime": {
     "end_time": "2020-06-06T05:30:10.714959Z",
     "start_time": "2020-06-06T05:30:10.659809Z"
    }
   },
   "outputs": [],
   "source": [
    "for a, b in [(d.strftime('%Y%m') + '01', d.strftime('%Y%m%d')) for d in drange if d.year >= 2009]:\n",
    "    t = get_pbs(a, b)\n",
    "    fname = f'qcpol_{a[:-2]}.pbs'\n",
    "    \n",
    "    with open(fname, 'w+') as fid:\n",
    "        fid.write(t)"
   ]
  },
  {
   "cell_type": "code",
   "execution_count": null,
   "metadata": {},
   "outputs": [],
   "source": []
  }
 ],
 "metadata": {
  "kernelspec": {
   "display_name": "Python 3",
   "language": "python",
   "name": "python3"
  },
  "language_info": {
   "codemirror_mode": {
    "name": "ipython",
    "version": 3
   },
   "file_extension": ".py",
   "mimetype": "text/x-python",
   "name": "python",
   "nbconvert_exporter": "python",
   "pygments_lexer": "ipython3",
   "version": "3.8.3"
  },
  "varInspector": {
   "cols": {
    "lenName": 16,
    "lenType": 16,
    "lenVar": 40
   },
   "kernels_config": {
    "python": {
     "delete_cmd_postfix": "",
     "delete_cmd_prefix": "del ",
     "library": "var_list.py",
     "varRefreshCmd": "print(var_dic_list())"
    },
    "r": {
     "delete_cmd_postfix": ") ",
     "delete_cmd_prefix": "rm(",
     "library": "var_list.r",
     "varRefreshCmd": "cat(var_dic_list()) "
    }
   },
   "types_to_exclude": [
    "module",
    "function",
    "builtin_function_or_method",
    "instance",
    "_Feature"
   ],
   "window_display": false
  }
 },
 "nbformat": 4,
 "nbformat_minor": 4
}
